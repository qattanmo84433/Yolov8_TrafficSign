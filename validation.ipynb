{
 "cells": [
  {
   "cell_type": "code",
   "execution_count": 1,
   "id": "71122b1c-40a3-43db-b773-aa7378948eeb",
   "metadata": {},
   "outputs": [
    {
     "name": "stdout",
     "output_type": "stream",
     "text": [
      "Ultralytics YOLOv8.0.229 🚀 Python-3.11.5 torch-2.1.2 CPU (Apple M1 Max)\n",
      "Loading runs/detect/train3/weights/best.onnx for ONNX Runtime inference...\n",
      "Forcing batch=1 square inference (1,3,640,640) for non-PyTorch models\n",
      "\u001b[34m\u001b[1mval: \u001b[0mScanning /Volumes/Data/Carla_Images_Training/Carla_Images-6/valid/labels...\u001b[0m\n",
      "\u001b[34m\u001b[1mval: \u001b[0mNew cache created: /Volumes/Data/Carla_Images_Training/Carla_Images-6/valid/labels.cache\n",
      "                 Class     Images  Instances      Box(P          R      mAP50  m\n",
      "                   all        304        151      0.964      0.895      0.924      0.751\n",
      "              Speed_30        304         71      0.969      0.958       0.97      0.782\n",
      "              Speed_60        304         44      0.932      0.727      0.806      0.619\n",
      "              Speed_90        304         36      0.992          1      0.995      0.852\n",
      "Speed: 0.6ms preprocess, 32.7ms inference, 0.0ms loss, 0.3ms postprocess per image\n",
      "Results saved to \u001b[1mruns/detect/val\u001b[0m\n",
      "💡 Learn more at https://docs.ultralytics.com/modes/val\n"
     ]
    }
   ],
   "source": [
    "!yolo val task=detect model=runs/detect/train3/weights/best.onnx data=/Volumes/Data/Carla_Images_Training/Carla_Images-6/data.yaml "
   ]
  },
  {
   "cell_type": "code",
   "execution_count": 5,
   "id": "b675dfe0-c8a7-4e48-8c33-1bcc7c1e9c8b",
   "metadata": {},
   "outputs": [
    {
     "name": "stdout",
     "output_type": "stream",
     "text": [
      "loading Roboflow workspace...\n",
      "loading Roboflow project...\n"
     ]
    }
   ],
   "source": [
    "from roboflow import Roboflow\n",
    "rf = Roboflow(api_key=\"yEajTRRblrPKxKARkIr0\")\n",
    "project = rf.workspace(\"traffic-sign-lvyrj\").project(\"carla_images\")"
   ]
  },
  {
   "cell_type": "code",
   "execution_count": 6,
   "id": "8c60c24d-b813-495d-83e5-6aa11cb62915",
   "metadata": {},
   "outputs": [
    {
     "name": "stdout",
     "output_type": "stream",
     "text": [
      "Dependency ultralytics==8.0.196 is required but found version=8.0.229, to fix: `pip install ultralytics==8.0.196`\n"
     ]
    },
    {
     "name": "stdin",
     "output_type": "stream",
     "text": [
      "Would you like to continue with the wrong version of ultralytics? y/n:  y\n"
     ]
    },
    {
     "name": "stdout",
     "output_type": "stream",
     "text": [
      "View the status of your deployment at: https://app.roboflow.com/traffic-sign-lvyrj/carla_images/7\n",
      "Share your model with the world at: https://universe.roboflow.com/traffic-sign-lvyrj/carla_images/model/7\n"
     ]
    }
   ],
   "source": [
    "project.version(7).deploy(model_type=\"yolov8\", model_path=\"/Volumes/Data/Yolov8_TrafficSign/runs/detect/train3\")\n"
   ]
  },
  {
   "cell_type": "code",
   "execution_count": null,
   "id": "9a47240c-4281-4b73-ae8c-330e5b1f4910",
   "metadata": {},
   "outputs": [],
   "source": []
  }
 ],
 "metadata": {
  "kernelspec": {
   "display_name": "Python 3 (ipykernel)",
   "language": "python",
   "name": "python3"
  },
  "language_info": {
   "codemirror_mode": {
    "name": "ipython",
    "version": 3
   },
   "file_extension": ".py",
   "mimetype": "text/x-python",
   "name": "python",
   "nbconvert_exporter": "python",
   "pygments_lexer": "ipython3",
   "version": "3.11.5"
  }
 },
 "nbformat": 4,
 "nbformat_minor": 5
}
