{
 "cells": [
  {
   "cell_type": "code",
   "execution_count": null,
   "id": "b5e47b69-b15d-458b-a1a2-23bdeb89e986",
   "metadata": {},
   "outputs": [],
   "source": [
    "!pip install roboflow\n",
    "\n",
    "from roboflow import Roboflow\n",
    "rf = Roboflow(api_key=\"yEajTRRblrPKxKARkIr0\")\n",
    "project = rf.workspace(\"traffic-sign-lvyrj\").project(\"carla_images\")\n",
    "dataset = project.version(4).download(\"yolov8\")"
   ]
  },
  {
   "cell_type": "code",
   "execution_count": null,
   "id": "74f01d2f-336b-4a5e-ae7a-766665e6644c",
   "metadata": {
    "scrolled": true
   },
   "outputs": [],
   "source": [
    "# Pip install method (recommended)\n",
    "!pip install ultralytics\n",
    "\n",
    "from IPython import display\n",
    "display.clear_output()"
   ]
  },
  {
   "cell_type": "code",
   "execution_count": null,
   "id": "810478b0-e7e5-473d-bb46-cefb2a35a925",
   "metadata": {
    "scrolled": true
   },
   "outputs": [],
   "source": [
    "from ultralytics import YOLO"
   ]
  },
  {
   "cell_type": "code",
   "execution_count": null,
   "id": "eb4d0c62-025d-4e70-a4da-5074dd1e7bda",
   "metadata": {
    "scrolled": true
   },
   "outputs": [],
   "source": [
    "print({dataset.location})"
   ]
  },
  {
   "cell_type": "code",
   "execution_count": null,
   "id": "152e32c9-59ba-4d2e-bea8-29ae2bc1cc7c",
   "metadata": {
    "scrolled": true
   },
   "outputs": [],
   "source": [
    "model = YOLO('yolov8n.pt')  # load a pretrained model (recommended for training)"
   ]
  },
  {
   "cell_type": "code",
   "execution_count": null,
   "id": "d4867ce0-5b16-4e52-ab76-17c1c63019a0",
   "metadata": {},
   "outputs": [],
   "source": [
    "results = model.train(data=f'{dataset.location}/data.yaml', epochs=25, device='mps')"
   ]
  },
  {
   "cell_type": "code",
   "execution_count": null,
   "id": "1a8aaf96-76da-4795-be74-82826ac9072b",
   "metadata": {
    "scrolled": true
   },
   "outputs": [],
   "source": [
    "metrics = model.val()  # evaluate model performance on the validation set\n",
    "path = model.export(format=\"onnx\")  # export the model to ONNX format"
   ]
  },
  {
   "cell_type": "code",
   "execution_count": null,
   "id": "94a88d7e",
   "metadata": {},
   "outputs": [],
   "source": [
    "!yolo val task=detect model=runs/detect/train4/weights/best.onnx imgsz=640 data=/Volumes/Data/Carla_Images_Training/Carla_Images-3/data.yaml "
   ]
  },
  {
   "cell_type": "code",
   "execution_count": null,
   "id": "883c63a5-5c63-428e-873f-9ce0d6b78767",
   "metadata": {},
   "outputs": [],
   "source": [
    "import time\n",
    "\n",
    "# Startzeit erfassen\n",
    "start_time = time.time()\n",
    "\n",
    "# Training des Modells\n",
    "results = model.tune(\n",
    "    data=f'{dataset.location}/data.yaml',  \n",
    "    epochs=25, \n",
    "    iterations=10, \n",
    "    optimizer='AdamW', \n",
    "    plots=True,\n",
    "    save=True,\n",
    "    val=True,\n",
    "    device='mps',\n",
    ")\n",
    "\n",
    "# Endzeit erfassen\n",
    "end_time = time.time()\n",
    "# Berechnung der Gesamtlaufzeit\n",
    "total_time = end_time - start_time\n",
    "print(f\"Training completed in {total_time:.2f} seconds\")"
   ]
  }
 ],
 "metadata": {
  "kernelspec": {
   "display_name": "Python 3 (ipykernel)",
   "language": "python",
   "name": "python3"
  },
  "language_info": {
   "codemirror_mode": {
    "name": "ipython",
    "version": 3
   },
   "file_extension": ".py",
   "mimetype": "text/x-python",
   "name": "python",
   "nbconvert_exporter": "python",
   "pygments_lexer": "ipython3",
   "version": "3.11.5"
  }
 },
 "nbformat": 4,
 "nbformat_minor": 5
}
